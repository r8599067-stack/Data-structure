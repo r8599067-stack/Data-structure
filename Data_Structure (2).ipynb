{
  "nbformat": 4,
  "nbformat_minor": 0,
  "metadata": {
    "colab": {
      "provenance": []
    },
    "kernelspec": {
      "name": "python3",
      "display_name": "Python 3"
    },
    "language_info": {
      "name": "python"
    }
  },
  "cells": [
    {
      "cell_type": "markdown",
      "source": [
        "Data Structure Assignment"
      ],
      "metadata": {
        "id": "LkIFsXgKL5Oq"
      }
    },
    {
      "cell_type": "markdown",
      "source": [
        "1. What are data structures, and why are they important?\n",
        "    - data structures are the way in which organize the data\n",
        "     in efficiently way and so that we can easily  access and modify it.\n",
        "\n",
        "2. Explain the difference between mutable and immutable data types with examples\n",
        "    - mutable-  means we can change the data after created it\n",
        "    - immutable -means we can not change the data after created it\n",
        "    - i.e list =[1,2,3,4]\n",
        "    - list[0]=5 //it is mutable\n",
        "    - a='pwskills'\n",
        "    - a[0]='s' // it is immutable\n",
        "\n",
        "3. What are the main differences between lists and tuples in Python\n",
        "    - list is a mutable we can modify the data in list\n",
        "    - tuple is a immutable we can not modify the data in tuple\n",
        "\n",
        "4. Describe how dictionaries store data\n",
        "    - dictionary stores the data in key value pair\n",
        "    - there is no concept of indexing in dictionary\n",
        "    - we use key to access the data in dict and it should be unique\n",
        "\n",
        "5. Why might you use a set instead of a list in Python\n",
        "    - set is a unique and do not allow duplicate values so that we use set instead of list\n",
        "\n",
        "6. What is a string in Python, and how is it different from a list\n",
        "    - string is a sequence of character enclosed between double and single quotes\n",
        "    - string is a immutable\n",
        "    - stores only character\n",
        "    - list can store the hetrogenours element and enclosed in []\n",
        "    - it is a mutabe\n",
        "\n",
        "  \n",
        "7. How do tuples ensure data integrity in Python\n",
        "    - tuple can stores data in hetrogenours element\n",
        "    - it is denoted by ()\n",
        "    - it is a immutable\n",
        "    - data integrity means once the tuple created we can not modify\n",
        "    - i.e t=(1,2.3,'ajay' ,True,3+7i)\n",
        "    - t[2] = 'rahul'    //error\n",
        "\n",
        "8. What is a hash table, and how does it relate to dictionaries in Python\n",
        "    - A hash table is a data structure that stores data in key–value pairs and allows fast access\n",
        "    - It uses a hash function to convert a key into an index in an array.\n",
        "    - At that index, the corresponding value is stored.\n",
        "    - i.e d={\n",
        "      name ='lovkush' }\n",
        "      - d['name']\n",
        "\n",
        "9. Can lists contain different data types in Python\n",
        "    -  yes in list we can store different types of data\n",
        "\n",
        "10. Explain why strings are immutable in Python\n",
        "    - strign are immutable in python because we can not change their value after they created,it is ensure that safetey and consistency in program\n",
        "    - i.e a='pwskills'\n",
        "    - a[2]='q  //error\n",
        "\n",
        "11. What advantages do dictionaries offer over lists for certain tasks\n",
        "    - Use List → when order matters, and you just need a simple sequence.\n",
        "\n",
        "    - Use Dict → when you need fast lookups, key–value mapping, or uniqueness of keys.\n",
        "\n",
        "12. Describe a scenario where using a tuple would be preferable over a list\n",
        "\n",
        "     - tuple is most preferable to used when we do not want to change the data but in list we can change the data\n",
        "\n",
        "13. How do sets handle duplicate values in Python\n",
        "    - set is a unordered and  unique collection of item  and do not allow duplicate value\n",
        "    - Python computes its hash.\n",
        "    - If the hash already exists in the set, Python ignores the new duplicate\n",
        "\n",
        "14. How does the “in” keyword work differently for lists and dictionaries\n",
        "    - list\n",
        "    - Checks if a value exists in the list.\n",
        "    - Works by scanning elements one by one\n",
        "    - dict\n",
        "    - Checks if a key exists, not the value.\n",
        "    - Uses hashing\n",
        "\n",
        "15. Can you modify the elements of a tuple? Explain why or why not\n",
        "    - No because tuple is a immutable we can not change their value\n",
        "\n",
        "16. What is a nested dictionary, and give an example of its use case\n",
        "    - dictionary inside a dictionary\n",
        "    - i.e nested_dict = {\n",
        "    \"student1\": {\"name\": \"Aman\", \"age\": 20, \"course\": \"Python\"},\n",
        "    \"student2\": {\"name\": \"Ravi\", \"age\": 22, \"course\": \"Data Science\"}}\n",
        "    - use case:Used for storing structured, hierarchical data\n",
        "\n",
        "\n",
        "17. Describe the time complexity of accessing elements in a dictionary\n",
        "    - Python dictionaries are implemented using a hash table.\n",
        "    - Keys are passed through a hash function → gives an index in memory where the value is stored.\n",
        "\n",
        "18. In what situations are lists preferred over dictionaries\n",
        "    - Lists\n",
        "    - You need an ordered collection.\n",
        "    - You only need values, not key–value mapping.\n",
        "    - Duplicates are acceptable.\n",
        "    - You need index-based access or slicing.\n",
        "    - Dictionary\n",
        "    - You need fast lookup by key.\n",
        "    - You want key–value mapping\n",
        "    - Keys must be unique and immutable.\n",
        "\n",
        "19. Why are dictionaries considered unordered, and how does that affect data retrieval\n",
        "    - dictionaries did not preserve the order in which items were inserted\n",
        "    - Retrieval by key is always fast; order only matters when iterating or exporting items.\n",
        "\n",
        "20. Explain the difference between a list and a dictionary in terms of data retrieval.\n",
        "    - list\n",
        "    -  access elements using a numeric index\n",
        "    - To find if a value exists, Python scans the list\n",
        "    - dict\n",
        "    - access elements using a key\n",
        "    - To find a value, you need to use .values()\n",
        "  \n"
      ],
      "metadata": {
        "id": "SWuo9VvFMBXD"
      }
    },
    {
      "cell_type": "markdown",
      "source": [
        "Practical question"
      ],
      "metadata": {
        "id": "EdEAe2NWdzMp"
      }
    },
    {
      "cell_type": "markdown",
      "source": [
        "1. Write a code to create a string with your name and print it\n"
      ],
      "metadata": {
        "id": "VDtkUdOteT4A"
      }
    },
    {
      "cell_type": "code",
      "source": [
        "a='Shreya Rath'\n",
        "print(a)"
      ],
      "metadata": {
        "colab": {
          "base_uri": "https://localhost:8080/"
        },
        "id": "uIRNV2WbeQln",
        "outputId": "4d13608c-1beb-4bb4-cc5d-98fde0582414"
      },
      "execution_count": 1,
      "outputs": [
        {
          "output_type": "stream",
          "name": "stdout",
          "text": [
            "Shreya Rath\n"
          ]
        }
      ]
    },
    {
      "cell_type": "markdown",
      "source": [
        "2. Write a code to find the length of the string \"Hello World\""
      ],
      "metadata": {
        "id": "j181pMxhelPk"
      }
    },
    {
      "cell_type": "code",
      "source": [
        "s='Hello world'\n",
        "len(s)"
      ],
      "metadata": {
        "colab": {
          "base_uri": "https://localhost:8080/"
        },
        "id": "Ng4ECiSpejc0",
        "outputId": "50b1fe95-9caa-42ba-c470-90255a184f7f"
      },
      "execution_count": null,
      "outputs": [
        {
          "output_type": "execute_result",
          "data": {
            "text/plain": [
              "11"
            ]
          },
          "metadata": {},
          "execution_count": 2
        }
      ]
    },
    {
      "cell_type": "markdown",
      "source": [
        "3.Write a code to slice the first 3 characters from the string \"Python Programming\""
      ],
      "metadata": {
        "id": "dStSGujfetNX"
      }
    },
    {
      "cell_type": "code",
      "source": [
        "a='python programming'\n",
        "a[:3:]"
      ],
      "metadata": {
        "colab": {
          "base_uri": "https://localhost:8080/",
          "height": 35
        },
        "id": "-A5AevdmereU",
        "outputId": "844d3cce-5781-4182-91c4-cc648b50cddd"
      },
      "execution_count": null,
      "outputs": [
        {
          "output_type": "execute_result",
          "data": {
            "text/plain": [
              "'pyt'"
            ],
            "application/vnd.google.colaboratory.intrinsic+json": {
              "type": "string"
            }
          },
          "metadata": {},
          "execution_count": 4
        }
      ]
    },
    {
      "cell_type": "markdown",
      "source": [
        "4. Write a code to convert the string \"hello\" to uppercase\n"
      ],
      "metadata": {
        "id": "MPWAvAolfAzM"
      }
    },
    {
      "cell_type": "code",
      "source": [
        "a='hello'\n",
        "a.title()"
      ],
      "metadata": {
        "colab": {
          "base_uri": "https://localhost:8080/",
          "height": 35
        },
        "id": "YsQkjniTe7Ak",
        "outputId": "881848e9-c2af-414f-8323-7dac5d829980"
      },
      "execution_count": null,
      "outputs": [
        {
          "output_type": "execute_result",
          "data": {
            "text/plain": [
              "'Hello'"
            ],
            "application/vnd.google.colaboratory.intrinsic+json": {
              "type": "string"
            }
          },
          "metadata": {},
          "execution_count": 9
        }
      ]
    },
    {
      "cell_type": "markdown",
      "source": [
        "5. Write a code to replace the word \"apple\" with \"orange\" in the string \"I like apple\"\n"
      ],
      "metadata": {
        "id": "DSJN5JvwfaRt"
      }
    },
    {
      "cell_type": "code",
      "source": [
        "a='I like apple'\n",
        "a.replace('apple','orange')"
      ],
      "metadata": {
        "colab": {
          "base_uri": "https://localhost:8080/",
          "height": 35
        },
        "id": "v3c3zORJfQE7",
        "outputId": "4ef7cae2-5694-441b-e594-9d58c53464ca"
      },
      "execution_count": null,
      "outputs": [
        {
          "output_type": "execute_result",
          "data": {
            "text/plain": [
              "'I like orange'"
            ],
            "application/vnd.google.colaboratory.intrinsic+json": {
              "type": "string"
            }
          },
          "metadata": {},
          "execution_count": 10
        }
      ]
    },
    {
      "cell_type": "markdown",
      "source": [
        "6. Write a code to create a list with numbers 1 to 5 and print it\n"
      ],
      "metadata": {
        "id": "WtKIbtDofm-m"
      }
    },
    {
      "cell_type": "code",
      "source": [
        "list=[]\n",
        "for i in range(1,6):\n",
        "  list.append(i)\n",
        "print(list)"
      ],
      "metadata": {
        "colab": {
          "base_uri": "https://localhost:8080/"
        },
        "id": "TS_MB7o0flM8",
        "outputId": "24cf5bcb-f162-4742-c83b-94d33a389dec"
      },
      "execution_count": null,
      "outputs": [
        {
          "output_type": "stream",
          "name": "stdout",
          "text": [
            "[1, 2, 3, 4, 5]\n"
          ]
        }
      ]
    },
    {
      "cell_type": "markdown",
      "source": [
        "7. Write a code to append the number 10 to the list [1, 2, 3, 4]\n"
      ],
      "metadata": {
        "id": "uY3vfEIYgMID"
      }
    },
    {
      "cell_type": "code",
      "source": [
        "l=[1,2,3,4]\n",
        "l.append(10)\n",
        "print(l)"
      ],
      "metadata": {
        "colab": {
          "base_uri": "https://localhost:8080/"
        },
        "id": "ypMgGgacfy-i",
        "outputId": "94baaaed-6a2c-427e-d9b2-a54dbc6f56e1"
      },
      "execution_count": null,
      "outputs": [
        {
          "output_type": "stream",
          "name": "stdout",
          "text": [
            "[1, 2, 3, 4, 10]\n"
          ]
        }
      ]
    },
    {
      "cell_type": "markdown",
      "source": [
        "8. Write a code to remove the number 3 from the list [1, 2, 3, 4, 5]\n",
        "\n"
      ],
      "metadata": {
        "id": "7mnkzswNgaSr"
      }
    },
    {
      "cell_type": "code",
      "source": [
        "l=[1,2,3,4,5]\n",
        "l.remove(3)\n",
        "l"
      ],
      "metadata": {
        "colab": {
          "base_uri": "https://localhost:8080/"
        },
        "id": "V31l6oSqhFbM",
        "outputId": "0f07e2ff-c7c3-4ee0-aab6-c65f612538fa"
      },
      "execution_count": null,
      "outputs": [
        {
          "output_type": "execute_result",
          "data": {
            "text/plain": [
              "[1, 2, 4, 5]"
            ]
          },
          "metadata": {},
          "execution_count": 1
        }
      ]
    },
    {
      "cell_type": "markdown",
      "source": [
        "9. Write a code to access the second element in the list ['a', 'b', 'c', 'd']\n"
      ],
      "metadata": {
        "id": "SBxMDTp8gdQw"
      }
    },
    {
      "cell_type": "code",
      "source": [
        "l=['a','b','c','d']\n",
        "l[1]\n",
        "l\n"
      ],
      "metadata": {
        "colab": {
          "base_uri": "https://localhost:8080/"
        },
        "id": "BgCHUxp8hNfK",
        "outputId": "a989ddbc-c6b3-422d-cecf-5e88a1ff5368"
      },
      "execution_count": null,
      "outputs": [
        {
          "output_type": "execute_result",
          "data": {
            "text/plain": [
              "['a', 'b', 'c', 'd']"
            ]
          },
          "metadata": {},
          "execution_count": 4
        }
      ]
    },
    {
      "cell_type": "markdown",
      "source": [
        "10.  Write a code to reverse the list [10, 20, 30, 40, 50].\n"
      ],
      "metadata": {
        "id": "qZOobWfTgdcS"
      }
    },
    {
      "cell_type": "code",
      "source": [
        "l=[10,20,30,40]\n",
        "l[::-1]"
      ],
      "metadata": {
        "colab": {
          "base_uri": "https://localhost:8080/"
        },
        "id": "HUqDOfnThcJL",
        "outputId": "03fe8f0d-ea7d-4e8e-ee4a-f8cc1045d65f"
      },
      "execution_count": null,
      "outputs": [
        {
          "output_type": "execute_result",
          "data": {
            "text/plain": [
              "[40, 30, 20, 10]"
            ]
          },
          "metadata": {},
          "execution_count": 5
        }
      ]
    },
    {
      "cell_type": "markdown",
      "source": [
        "11. Write a code to create a tuple with the elements 100, 200, 300 and print it.\n"
      ],
      "metadata": {
        "id": "YS-wyi8sgdz1"
      }
    },
    {
      "cell_type": "code",
      "source": [
        "t =(100,200,300)\n",
        "print(t)"
      ],
      "metadata": {
        "colab": {
          "base_uri": "https://localhost:8080/"
        },
        "id": "YvsKXQ4NhiWe",
        "outputId": "1af44548-c835-4274-b23f-c301af7d93dd"
      },
      "execution_count": null,
      "outputs": [
        {
          "output_type": "stream",
          "name": "stdout",
          "text": [
            "(100, 200, 300)\n"
          ]
        }
      ]
    },
    {
      "cell_type": "markdown",
      "source": [
        "12. Write a code to access the second-to-last element of the tuple ('red', 'green', 'blue', 'yellow').\n"
      ],
      "metadata": {
        "id": "jQHcdo_Ogd7r"
      }
    },
    {
      "cell_type": "code",
      "source": [
        "t=('red','green','blue','yellow')\n",
        "t[-2]"
      ],
      "metadata": {
        "colab": {
          "base_uri": "https://localhost:8080/",
          "height": 35
        },
        "id": "wl7eznC8hoDV",
        "outputId": "35d89e6f-1d2e-4205-8250-ed28a5eafa14"
      },
      "execution_count": null,
      "outputs": [
        {
          "output_type": "execute_result",
          "data": {
            "text/plain": [
              "'blue'"
            ],
            "application/vnd.google.colaboratory.intrinsic+json": {
              "type": "string"
            }
          },
          "metadata": {},
          "execution_count": 8
        }
      ]
    },
    {
      "cell_type": "markdown",
      "source": [
        "13. Write a code to find the minimum number in the tuple (10, 20, 5, 15).\n"
      ],
      "metadata": {
        "id": "TD5OZJAKgd-A"
      }
    },
    {
      "cell_type": "code",
      "source": [
        "t=(10,20,5,15)\n",
        "min(t)"
      ],
      "metadata": {
        "colab": {
          "base_uri": "https://localhost:8080/"
        },
        "id": "CYxwfDbvh1Se",
        "outputId": "2d350540-ab66-476f-8e8d-9d1b5057fb5a"
      },
      "execution_count": null,
      "outputs": [
        {
          "output_type": "execute_result",
          "data": {
            "text/plain": [
              "5"
            ]
          },
          "metadata": {},
          "execution_count": 10
        }
      ]
    },
    {
      "cell_type": "markdown",
      "source": [
        "14. Write a code to find the index of the element \"cat\" in the tuple ('dog', 'cat', 'rabbit').\n"
      ],
      "metadata": {
        "id": "53ueS6jkgePw"
      }
    },
    {
      "cell_type": "code",
      "source": [
        "t=('dog','cat','rabbit')\n",
        "t.index('cat')"
      ],
      "metadata": {
        "colab": {
          "base_uri": "https://localhost:8080/"
        },
        "id": "4Wqy0mhPh-Z4",
        "outputId": "64ff853c-8cb4-4513-fb85-5cab9ca628d7"
      },
      "execution_count": null,
      "outputs": [
        {
          "output_type": "execute_result",
          "data": {
            "text/plain": [
              "1"
            ]
          },
          "metadata": {},
          "execution_count": 11
        }
      ]
    },
    {
      "cell_type": "markdown",
      "source": [
        " 15. Write a code to create a tuple containing three different fruits and check if \"kiwi\" is in it.\n"
      ],
      "metadata": {
        "id": "rkiyXy45g_Sq"
      }
    },
    {
      "cell_type": "code",
      "source": [
        "t=('apple','mango','grapes','kiwi')\n",
        "'kiwi' in t"
      ],
      "metadata": {
        "colab": {
          "base_uri": "https://localhost:8080/"
        },
        "id": "LxCzi7Z5igYB",
        "outputId": "0130fbf6-5797-4280-8378-2ef2fa748ab1"
      },
      "execution_count": null,
      "outputs": [
        {
          "output_type": "execute_result",
          "data": {
            "text/plain": [
              "True"
            ]
          },
          "metadata": {},
          "execution_count": 12
        }
      ]
    },
    {
      "cell_type": "markdown",
      "source": [
        " 16. Write a code to create a set with the elements 'a', 'b', 'c' and print it.\n"
      ],
      "metadata": {
        "id": "ToJteYBPhEJZ"
      }
    },
    {
      "cell_type": "code",
      "source": [
        "s={'a','b','c'}\n",
        "print(s)"
      ],
      "metadata": {
        "colab": {
          "base_uri": "https://localhost:8080/"
        },
        "id": "wCZSdVjIirpb",
        "outputId": "294554d9-2cb7-4c44-ed9e-c16122426886"
      },
      "execution_count": null,
      "outputs": [
        {
          "output_type": "stream",
          "name": "stdout",
          "text": [
            "{'b', 'c', 'a'}\n"
          ]
        }
      ]
    },
    {
      "cell_type": "markdown",
      "source": [
        " 17. Write a code to clear all elements from the set {1, 2, 3, 4, 5}.\n"
      ],
      "metadata": {
        "id": "5fcR5OtLhEP3"
      }
    },
    {
      "cell_type": "code",
      "source": [
        "s={1,2,3,4,5}\n",
        "s.clear()"
      ],
      "metadata": {
        "id": "NqFGN_2ujVZE"
      },
      "execution_count": null,
      "outputs": []
    },
    {
      "cell_type": "markdown",
      "source": [
        " 18. Write a code to remove the element 4 from the set {1, 2, 3, 4}.\n"
      ],
      "metadata": {
        "id": "if6Hgsv2hEXc"
      }
    },
    {
      "cell_type": "code",
      "source": [
        "s={1,2,3,4}\n",
        "s.remove(4)\n",
        "s"
      ],
      "metadata": {
        "colab": {
          "base_uri": "https://localhost:8080/"
        },
        "id": "cf_JyKGajqxp",
        "outputId": "e1322239-2dba-4e0c-9d43-e98cf45fdee9"
      },
      "execution_count": null,
      "outputs": [
        {
          "output_type": "execute_result",
          "data": {
            "text/plain": [
              "{1, 2, 3}"
            ]
          },
          "metadata": {},
          "execution_count": 18
        }
      ]
    },
    {
      "cell_type": "markdown",
      "source": [
        " 19. Write a code to find the union of two sets {1, 2, 3} and {3, 4, 5}.\n"
      ],
      "metadata": {
        "id": "X-phlFoxhEe0"
      }
    },
    {
      "cell_type": "code",
      "source": [
        "s1={1,2,3}\n",
        "s2={3,4,5}\n",
        "s1 | s2"
      ],
      "metadata": {
        "colab": {
          "base_uri": "https://localhost:8080/"
        },
        "id": "Aa7BD21tj0r3",
        "outputId": "6242c806-9e67-4a41-c8a8-3a24cd40a246"
      },
      "execution_count": null,
      "outputs": [
        {
          "output_type": "execute_result",
          "data": {
            "text/plain": [
              "{1, 2, 3, 4, 5}"
            ]
          },
          "metadata": {},
          "execution_count": 19
        }
      ]
    },
    {
      "cell_type": "markdown",
      "source": [
        " 20. Write a code to find the intersection of two sets {1, 2, 3} and {2, 3, 4}.\n"
      ],
      "metadata": {
        "id": "9cEz54WzhEnX"
      }
    },
    {
      "cell_type": "code",
      "source": [
        "s1={1,2,3}\n",
        "s2={2,3,4}\n",
        "s1 & s2"
      ],
      "metadata": {
        "colab": {
          "base_uri": "https://localhost:8080/"
        },
        "id": "iO4zyR-jg7EP",
        "outputId": "d5a5c050-32f4-490b-9a68-3957262689f0"
      },
      "execution_count": null,
      "outputs": [
        {
          "output_type": "execute_result",
          "data": {
            "text/plain": [
              "{2, 3}"
            ]
          },
          "metadata": {},
          "execution_count": 21
        }
      ]
    },
    {
      "cell_type": "markdown",
      "source": [
        " 21. Write a code to create a dictionary with the keys \"name\", \"age\", and \"city\", and print it.\n"
      ],
      "metadata": {
        "id": "a40rb8zbkPSO"
      }
    },
    {
      "cell_type": "code",
      "source": [
        "d={\n",
        "    \"name\":\"shreya\",\n",
        "    \"age\":24,\n",
        "    \"city\":\"gurgaon\"\n",
        "}\n",
        "print(d)"
      ],
      "metadata": {
        "colab": {
          "base_uri": "https://localhost:8080/"
        },
        "id": "4Z7ofOOsk9DS",
        "outputId": "1f63146e-5019-48ff-b372-bea66183af67"
      },
      "execution_count": null,
      "outputs": [
        {
          "output_type": "stream",
          "name": "stdout",
          "text": [
            "{'name': 'lovkush', 'age': 24, 'city': 'jaunpur'}\n"
          ]
        }
      ]
    },
    {
      "cell_type": "markdown",
      "source": [
        " 22. Write a code to add a new key-value pair \"country\": \"USA\" to the dictionary {'name': 'John', 'age': 25}.\n",
        "\n"
      ],
      "metadata": {
        "id": "5SwCIV3WkPeP"
      }
    },
    {
      "cell_type": "code",
      "source": [
        "d={\"name\":'john','age':25}\n",
        "d['country']='usa'\n",
        "print(d)"
      ],
      "metadata": {
        "colab": {
          "base_uri": "https://localhost:8080/"
        },
        "id": "z7H1f-BBlQce",
        "outputId": "77f097b8-dc53-4fc1-c6b1-1ba6f231b778"
      },
      "execution_count": null,
      "outputs": [
        {
          "output_type": "stream",
          "name": "stdout",
          "text": [
            "{'name': 'john', 'age': 25, 'country': 'usa'}\n"
          ]
        }
      ]
    },
    {
      "cell_type": "markdown",
      "source": [
        " 23. Write a code to access the value associated with the key \"name\" in the dictionary {'name': 'Alice', 'age': 30}."
      ],
      "metadata": {
        "id": "FFsD0RKzkPsH"
      }
    },
    {
      "cell_type": "code",
      "source": [
        "d={'name':'alice','age':30}\n",
        "d['name']\n"
      ],
      "metadata": {
        "colab": {
          "base_uri": "https://localhost:8080/",
          "height": 35
        },
        "id": "11JrdmublfGe",
        "outputId": "808dc723-9b92-4f3c-c6be-bea678fe777d"
      },
      "execution_count": null,
      "outputs": [
        {
          "output_type": "execute_result",
          "data": {
            "text/plain": [
              "'alice'"
            ],
            "application/vnd.google.colaboratory.intrinsic+json": {
              "type": "string"
            }
          },
          "metadata": {},
          "execution_count": 28
        }
      ]
    },
    {
      "cell_type": "markdown",
      "source": [
        "24. Write a code to remove the key \"age\" from the dictionary {'name': 'Bob', 'age': 22, 'city': 'New York'}."
      ],
      "metadata": {
        "id": "kuh-TojgkQAP"
      }
    },
    {
      "cell_type": "code",
      "source": [
        "d={'name':'bob','age':22,'city':'new york'}\n",
        "del d['age']\n",
        "d"
      ],
      "metadata": {
        "colab": {
          "base_uri": "https://localhost:8080/"
        },
        "id": "aOVRpZ0dln7u",
        "outputId": "557c8065-137b-4eca-e531-ef1280059ece"
      },
      "execution_count": null,
      "outputs": [
        {
          "output_type": "execute_result",
          "data": {
            "text/plain": [
              "{'name': 'bob', 'city': 'new york'}"
            ]
          },
          "metadata": {},
          "execution_count": 30
        }
      ]
    },
    {
      "cell_type": "markdown",
      "source": [
        "25. Write a code to check if the key \"city\" exists in the dictionary {'name': 'Alice', 'city': 'Paris'}."
      ],
      "metadata": {
        "id": "EHX24vYakQIq"
      }
    },
    {
      "cell_type": "code",
      "source": [
        "d={'name':'alice','city':'paris'}\n",
        "\"city\" in d"
      ],
      "metadata": {
        "colab": {
          "base_uri": "https://localhost:8080/"
        },
        "id": "0cDS4xpwl2hS",
        "outputId": "5dd20bfe-fdef-41e8-9a33-fd46a420ea76"
      },
      "execution_count": null,
      "outputs": [
        {
          "output_type": "execute_result",
          "data": {
            "text/plain": [
              "True"
            ]
          },
          "metadata": {},
          "execution_count": 35
        }
      ]
    },
    {
      "cell_type": "markdown",
      "source": [
        "26. Write a code to create a list, a tuple, and a dictionary, and print them all."
      ],
      "metadata": {
        "id": "QHSz548VkQNH"
      }
    },
    {
      "cell_type": "code",
      "source": [
        "l=[1,2,'ajay','rahul','2,3',True]\n",
        "print(l)\n",
        "\n",
        "t = (1,2,'ajay','rahul','2,3',True)\n",
        "print(t)\n",
        "d={'name':'sanjay','age':23}\n",
        "print(d)"
      ],
      "metadata": {
        "colab": {
          "base_uri": "https://localhost:8080/"
        },
        "id": "WgYZKoucmwFf",
        "outputId": "f7aa19c7-e62e-414a-a76f-09f133ecf060"
      },
      "execution_count": null,
      "outputs": [
        {
          "output_type": "stream",
          "name": "stdout",
          "text": [
            "[1, 2, 'ajay', 'rahul', '2,3', True]\n",
            "(1, 2, 'ajay', 'rahul', '2,3', True)\n",
            "{'name': 'sanjay', 'age': 23}\n"
          ]
        }
      ]
    },
    {
      "cell_type": "markdown",
      "source": [
        "27. Write a code to create a list of 5 random numbers between 1 and 100, sort it in ascending order, and print the\n",
        "result.(replaced)\n",
        "\n",
        "\n"
      ],
      "metadata": {
        "id": "EWyQFkyLkQSj"
      }
    },
    {
      "cell_type": "code",
      "source": [
        "\n",
        "import random\n",
        "num = [random.randint(1,100) for i in range(5) ]\n",
        "num.sort()\n",
        "print(num)"
      ],
      "metadata": {
        "colab": {
          "base_uri": "https://localhost:8080/"
        },
        "id": "uHRGkqd_nJZ9",
        "outputId": "73c7f71b-8864-47ae-9c37-32ab991ffb64"
      },
      "execution_count": null,
      "outputs": [
        {
          "output_type": "stream",
          "name": "stdout",
          "text": [
            "[65, 65, 79, 88, 97]\n"
          ]
        }
      ]
    },
    {
      "cell_type": "markdown",
      "source": [
        "28. Write a code to create a list with strings and print the element at the third index."
      ],
      "metadata": {
        "id": "314WQtjCkQVa"
      }
    },
    {
      "cell_type": "code",
      "source": [
        "l=['ajay','rahul','sanjay','shivani','monika']\n",
        "l[:3]"
      ],
      "metadata": {
        "colab": {
          "base_uri": "https://localhost:8080/"
        },
        "id": "xLvYzuL0pd0y",
        "outputId": "4e6fde8b-e4de-4ecd-bc76-61ba82e16b38"
      },
      "execution_count": null,
      "outputs": [
        {
          "output_type": "execute_result",
          "data": {
            "text/plain": [
              "['ajay', 'rahul', 'sanjay']"
            ]
          },
          "metadata": {},
          "execution_count": 49
        }
      ]
    },
    {
      "cell_type": "markdown",
      "source": [
        "29. Write a code to combine two dictionaries into one and print the result."
      ],
      "metadata": {
        "id": "mRRu_Gc4kQa_"
      }
    },
    {
      "cell_type": "code",
      "source": [
        "d1={'name':'lovkush'}\n",
        "d2={'age':24}\n",
        "d1.update(d2)\n",
        "d1\n"
      ],
      "metadata": {
        "colab": {
          "base_uri": "https://localhost:8080/"
        },
        "id": "MI8cC3czpu_t",
        "outputId": "824fa828-6467-4658-ccc3-b63fb24fcd16"
      },
      "execution_count": null,
      "outputs": [
        {
          "output_type": "execute_result",
          "data": {
            "text/plain": [
              "{'name': 'lovkush', 'age': 24}"
            ]
          },
          "metadata": {},
          "execution_count": 53
        }
      ]
    },
    {
      "cell_type": "markdown",
      "source": [
        "30. Write a code to convert a list of strings into a set."
      ],
      "metadata": {
        "id": "g5drmy5pkQj2"
      }
    },
    {
      "cell_type": "code",
      "source": [
        "l=['ajay','rahul','sanjay','shivani','monika']\n",
        "set(l)"
      ],
      "metadata": {
        "colab": {
          "base_uri": "https://localhost:8080/"
        },
        "id": "PAwnTO0Kk66L",
        "outputId": "4b8b36c5-70dc-481b-da61-ae73587e7fb5"
      },
      "execution_count": null,
      "outputs": [
        {
          "output_type": "execute_result",
          "data": {
            "text/plain": [
              "{'ajay', 'monika', 'rahul', 'sanjay', 'shivani'}"
            ]
          },
          "metadata": {},
          "execution_count": 54
        }
      ]
    },
    {
      "cell_type": "code",
      "source": [],
      "metadata": {
        "id": "LGf4b9oVqaod"
      },
      "execution_count": null,
      "outputs": []
    }
  ]
}